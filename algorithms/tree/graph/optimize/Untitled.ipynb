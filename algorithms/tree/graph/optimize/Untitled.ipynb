{
 "cells": [
  {
   "cell_type": "code",
   "execution_count": 1,
   "metadata": {},
   "outputs": [],
   "source": [
    "from create_tree import find_base, merge, pre_processing,post"
   ]
  },
  {
   "cell_type": "code",
   "execution_count": 2,
   "metadata": {},
   "outputs": [
    {
     "name": "stdout",
     "output_type": "stream",
     "text": [
      "{'2': 'C341-000', '5': 'C341-001', '3': 'C341-002', '7': 'C341-003', '4': 'C341-010', '8': 'C341-011', '0': 'C341-012', '1': 'C341-013', '9': 'C341-020', '6': 'C341-021'}\n",
      "{'C3410': 9}\n"
     ]
    }
   ],
   "source": [
    "[NodeMap, Groups, RankMap] = pre_processing(10)\n",
    "NodeMap2 = {**NodeMap}\n",
    "print(NodeMap)\n",
    "print(Groups)\n",
    "base_rack = find_base(Groups)\n",
    "mergelist = merge(NodeMap, base_rack)\n",
    "\n",
    "#post(mergelist,RankMap, NodeMap2)\n",
    "#tlist = list(map(list, zip(*mergelist)))"
   ]
  },
  {
   "cell_type": "code",
   "execution_count": 13,
   "metadata": {},
   "outputs": [],
   "source": [
    "# Sort first\n",
    "rank_num = len(RankMap)\n",
    "depths = list(map(float, list(NodeMap2.keys())))\n",
    "s_depths = sorted(range(len(depths)), key=lambda k: depths[k])\n",
    "\n",
    "inv_map = {k: RankMap[v] for k, v in NodeMap2.items()}\n",
    "sd = sorted(inv_map, key=inv_map.__getitem__)\n",
    "outlist = []\n",
    "\n",
    "X = mergelist[0][0:rank_num]\n",
    "Y = mergelist[1][0:rank_num]\n",
    "\n",
    "#Y2 = [x for _, x in sorted(zip(X, Y), key=lambda pair: RankMap[pair[0]])]\n",
    "#X2 = [x for x, _ in sorted(zip(X, Y), key=lambda pair: RankMap[pair[0]])]\n",
    "\n",
    "#Rsort = sorted(R2sort, key=lambda nid: inv_map[nid])\n",
    "#print(X2+mergelist[0][rank_num::])\n",
    "#outlist.append(X2+mergelist[0][rank_num::])\n",
    "#outlist.append(Y2+mergelist[1][rank_num::])\n",
    "\n",
    "# NID to Rank_Num\n",
    "#print(outlist)\n",
    "#for index, NID in enumerate(outlist[0]):\n",
    "#    outlist[0][index] = RankMap[NID]"
   ]
  },
  {
   "cell_type": "code",
   "execution_count": 19,
   "metadata": {},
   "outputs": [
    {
     "data": {
      "text/plain": [
       "['2', '5', '3', '7', '4', '8', '0', '1', '9', '6']"
      ]
     },
     "execution_count": 19,
     "metadata": {},
     "output_type": "execute_result"
    }
   ],
   "source": []
  },
  {
   "cell_type": "code",
   "execution_count": 18,
   "metadata": {},
   "outputs": [
    {
     "data": {
      "text/plain": [
       "['0', '1', '2', '3', '4', '5', '6', '7', '8', '9']"
      ]
     },
     "execution_count": 18,
     "metadata": {},
     "output_type": "execute_result"
    }
   ],
   "source": [
    "a"
   ]
  },
  {
   "cell_type": "code",
   "execution_count": 33,
   "metadata": {},
   "outputs": [
    {
     "name": "stdout",
     "output_type": "stream",
     "text": [
      "{'C354-000': 4.0, 'C354-001': 1.0, 'C354-002': 8.0, 'C354-003': 3.0, 'C354-010': 9.0, 'C354-011': 6.0, 'C354-012': 2.0, 'C354-013': 0.0, 'C354-020': 5.0, 'C354-021': 7.0} ['C354-001', 'C354-013', 'C354-003', 'C354-012', 'C354-020', 'C354-000', 'C354-021', 'C354-011', 'C354-010', 'C354-002'] [-1, 10, -1, 11, -1, 12, -1, 13, -1, 14]\n"
     ]
    }
   ],
   "source": [
    "rank_num = len(RankMap)\n",
    "inv_map = {v: float(k) for k, v in NodeMap2.items()}\n",
    "\n",
    "outlist = []\n",
    "\n",
    "X = mergelist[0][0:rank_num]\n",
    "Y = mergelist[1][0:rank_num]\n",
    "print(inv_map, X, Y)\n",
    "Y2 = [x for _, x in sorted(zip(X, Y), key=lambda pair: inv_map[pair[0]])]\n",
    "X2 = [x for x, _ in sorted(zip(X, Y), key=lambda pair: inv_map[pair[0]])]"
   ]
  }
 ],
 "metadata": {
  "kernelspec": {
   "display_name": "Python 3",
   "language": "python",
   "name": "python3"
  },
  "language_info": {
   "codemirror_mode": {
    "name": "ipython",
    "version": 3
   },
   "file_extension": ".py",
   "mimetype": "text/x-python",
   "name": "python",
   "nbconvert_exporter": "python",
   "pygments_lexer": "ipython3",
   "version": "3.6.3"
  }
 },
 "nbformat": 4,
 "nbformat_minor": 2
}
