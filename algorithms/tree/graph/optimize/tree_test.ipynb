{
 "cells": [
  {
   "cell_type": "code",
   "execution_count": 35,
   "metadata": {},
   "outputs": [],
   "source": [
    "# Create a fake dataset\n",
    "def addNode(Nodes, nodeval = None, imageDepth = None, halfrackNum = None, rackID = None):\n",
    "    node = {\"ID\":\"C\"+str(rackID)+\"-\"+ '{:02}'.format(halfrackNum)+ str(nodeval), \"IMG\":{}};\n",
    "    node[\"IMG\"][\"data\"] = {}\n",
    "    node[\"IMG\"][\"depth\"] = imageDepth\n",
    "    Nodes.append(node)\n",
    "    return node[\"ID\"]\n",
    "\n",
    "image_num = 64\n",
    "\n",
    "def check_rack(NID, base_rack):\n",
    "    group = NID[0:4]+str(int(int(NID[5:7])>6))\n",
    "    if group == base_rack:\n",
    "        return True\n",
    "    else:\n",
    "        return False"
   ]
  },
  {
   "cell_type": "code",
   "execution_count": 36,
   "metadata": {},
   "outputs": [],
   "source": [
    "import random\n",
    "depths = list(range(image_num))\n",
    "nodes = []\n",
    "random.shuffle(depths)\n",
    "NodeMap = {}\n",
    "Groups = {}\n",
    "d = 0\n",
    "for i in range (14):\n",
    "    for j in range(4):\n",
    "        NID = addNode(nodes, nodeval = j, imageDepth = depths[d], halfrackNum = i, rackID = 424 )\n",
    "        NodeMap[str(depths[d])] = NID\n",
    "        group = NID[0:4]+str(int(int(NID[5:7])>6))\n",
    "        if group not in Groups:\n",
    "            Groups[group] = 0\n",
    "        else:\n",
    "            Groups[group] = Groups[group] +1\n",
    "        d = d + 1\n",
    "for i in range(2):\n",
    "    for j in range(4):\n",
    "        NID = addNode(nodes, nodeval = j, imageDepth = depths[d], halfrackNum = i, rackID = 122 )\n",
    "        NodeMap[str(depths[d])] = NID\n",
    "        group = NID[0:4]+str(int(int(NID[5:7])>6))\n",
    "        if group not in Groups:\n",
    "            Groups[group] = 0\n",
    "        else:\n",
    "            Groups[group] = Groups[group]\n",
    "        d = d + 1\n",
    "        "
   ]
  },
  {
   "cell_type": "code",
   "execution_count": 37,
   "metadata": {},
   "outputs": [],
   "source": [
    "import operator\n",
    "base_rack = max(Groups.items(), key=operator.itemgetter(1))[0]\n"
   ]
  },
  {
   "cell_type": "code",
   "execution_count": 1,
   "metadata": {},
   "outputs": [
    {
     "ename": "NameError",
     "evalue": "name 'NodeMap' is not defined",
     "output_type": "error",
     "traceback": [
      "\u001b[1;31m---------------------------------------------------------------------------\u001b[0m",
      "\u001b[1;31mNameError\u001b[0m                                 Traceback (most recent call last)",
      "\u001b[1;32m<ipython-input-1-df038734647d>\u001b[0m in \u001b[0;36m<module>\u001b[1;34m()\u001b[0m\n\u001b[0;32m      1\u001b[0m \u001b[0mmergelist\u001b[0m \u001b[1;33m=\u001b[0m \u001b[1;33m[\u001b[0m\u001b[1;33m[\u001b[0m\u001b[1;33m]\u001b[0m\u001b[1;33m,\u001b[0m\u001b[1;33m[\u001b[0m\u001b[1;33m]\u001b[0m\u001b[1;33m]\u001b[0m\u001b[1;33m\u001b[0m\u001b[0m\n\u001b[1;32m----> 2\u001b[1;33m \u001b[0mmykeys\u001b[0m \u001b[1;33m=\u001b[0m \u001b[0mlist\u001b[0m\u001b[1;33m(\u001b[0m\u001b[0mrange\u001b[0m\u001b[1;33m(\u001b[0m\u001b[0mlen\u001b[0m\u001b[1;33m(\u001b[0m\u001b[0mNodeMap\u001b[0m\u001b[1;33m)\u001b[0m\u001b[1;33m)\u001b[0m\u001b[1;33m)\u001b[0m\u001b[1;33m\u001b[0m\u001b[0m\n\u001b[0m\u001b[0;32m      3\u001b[0m \u001b[0mnew_ind\u001b[0m \u001b[1;33m=\u001b[0m \u001b[0mlen\u001b[0m\u001b[1;33m(\u001b[0m\u001b[0mNodeMap\u001b[0m\u001b[1;33m)\u001b[0m\u001b[1;33m\u001b[0m\u001b[0m\n\u001b[0;32m      4\u001b[0m \u001b[1;32mwhile\u001b[0m \u001b[0mlen\u001b[0m\u001b[1;33m(\u001b[0m\u001b[0mmykeys\u001b[0m\u001b[1;33m)\u001b[0m\u001b[1;33m>\u001b[0m\u001b[1;36m1\u001b[0m\u001b[1;33m:\u001b[0m\u001b[1;33m\u001b[0m\u001b[0m\n\u001b[0;32m      5\u001b[0m     \u001b[0mmykeys\u001b[0m \u001b[1;33m=\u001b[0m \u001b[0mlist\u001b[0m\u001b[1;33m(\u001b[0m\u001b[0mNodeMap\u001b[0m\u001b[1;33m.\u001b[0m\u001b[0mkeys\u001b[0m\u001b[1;33m(\u001b[0m\u001b[1;33m)\u001b[0m\u001b[1;33m)\u001b[0m\u001b[1;33m\u001b[0m\u001b[0m\n",
      "\u001b[1;31mNameError\u001b[0m: name 'NodeMap' is not defined"
     ]
    }
   ],
   "source": [
    "mergelist = [[],[]]\n",
    "mykeys = list(range(len(NodeMap)))\n",
    "new_ind = len(NodeMap)\n",
    "while len(mykeys)>1:\n",
    "    mykeys = list(NodeMap.keys())\n",
    "    mykeys.sort(key=int)\n",
    "    print(mykeys)\n",
    "    cur_key = [True] * len(mykeys)\n",
    "    for index, key in enumerate(mykeys):\n",
    "        if index < len(mykeys)-1:\n",
    "            if str(key) in NodeMap and str(mykeys[index+1]) in NodeMap:\n",
    "                NID = NodeMap[str(key)]\n",
    "                NID2 = NodeMap[str(mykeys[index+1])]\n",
    "                if not check_rack(NID, base_rack) and check_rack(NID2, base_rack) and cur_key[index] is True and cur_key[index+1] is True:\n",
    "                    mergelist[0].extend([NID2,NID])\n",
    "                    mergelist[1].extend([-1,new_ind])\n",
    "                    new_ind = new_ind + 1\n",
    "                    cur_key[index] = False\n",
    "                    cur_key[index+1] = False\n",
    "                    #print(NID)\n",
    "\n",
    "                    del NodeMap[str(key)]\n",
    "                elif check_rack(NID, base_rack) and not check_rack(NID2, base_rack) and cur_key[index] is True and cur_key[index+1] is True:\n",
    "                    mergelist[0].extend([NID2,NID])\n",
    "                    mergelist[1].extend([new_ind,-1])\n",
    "                    new_ind = new_ind + 1\n",
    "                    cur_key[index] = False\n",
    "                    cur_key[index+1] = False\n",
    "                    #print(NID2)\n",
    "                    del NodeMap[str(mykeys[index+1])]\n",
    "                    \n",
    "                    \n",
    "    #print(len(NodeMap))\n",
    "    mykeys = list(NodeMap.keys())\n",
    "    mykeys.sort(key=int)\n",
    "    #print(mykeys)\n",
    "\n",
    "    cur_key = [True] * len(mykeys)\n",
    "    for index, key in enumerate(mykeys):\n",
    "        if index < len(mykeys)-1:\n",
    "            if str(key) in NodeMap and str(mykeys[index+1]) in NodeMap:\n",
    "\n",
    "                NID = NodeMap[str(key)]\n",
    "                NID2 = NodeMap[str(mykeys[index+1])]\n",
    "                if check_rack(NID, base_rack) and check_rack(NID2, base_rack) and cur_key[index] is True and cur_key[index+1] is True:\n",
    "                    mergelist[0].extend([NID2,NID])\n",
    "                    mergelist[1].extend([-1,new_ind])\n",
    "                    new_ind = new_ind + 1\n",
    "                    cur_key[index] = False\n",
    "                    cur_key[index+1] = False\n",
    "                    #print(NID)\n",
    "                    del NodeMap[str(key)]\n",
    "                \n",
    "    #print(len(NodeMap))\n",
    "\n",
    "\n",
    "\n",
    "            \n",
    "\n",
    "                "
   ]
  },
  {
   "cell_type": "code",
   "execution_count": 11,
   "metadata": {},
   "outputs": [],
   "source": [
    "from mpi4py import MPI\n",
    "\n",
    "comm = MPI.COMM_WORLD\n",
    "rank = comm.Get_rank()\n",
    "\n",
    "if rank == 0:\n",
    "    data = {'key1' : [7, 2.72, 2+3j],\n",
    "            'key2' : ( 'abc', 'xyz')}\n",
    "else:\n",
    "    data = None\n",
    "data = comm.bcast(data, root=0)"
   ]
  },
  {
   "cell_type": "code",
   "execution_count": 7,
   "metadata": {},
   "outputs": [],
   "source": [
    "from mpi4py import MPI\n",
    "\n",
    "comm = MPI.COMM_WORLD\n",
    "rank = comm.Get_rank()\n",
    "\n",
    "if rank == 0:\n",
    "    data = {'key1' : [7, 2.72, 2+3j],\n",
    "            'key2' : ( 'abc', 'xyz')}\n",
    "else:\n",
    "    data = None\n",
    "data = comm.bcast(data, root=0)"
   ]
  },
  {
   "cell_type": "code",
   "execution_count": 10,
   "metadata": {},
   "outputs": [
    {
     "name": "stdout",
     "output_type": "stream",
     "text": [
      "<built-in method Get_attr of mpi4py.MPI.Intracomm object at 0x0000023625E4B0C0>\n"
     ]
    }
   ],
   "source": [
    "print(comm.Get_attr)"
   ]
  },
  {
   "cell_type": "code",
   "execution_count": null,
   "metadata": {},
   "outputs": [],
   "source": [
    "mpi4py."
   ]
  },
  {
   "cell_type": "code",
   "execution_count": 1,
   "metadata": {},
   "outputs": [],
   "source": [
    "def get_ID():\n",
    "    print(\"This returns unique ID for a node in format of Cxxx-yyz\")\n",
    "\n",
    "\n",
    "def decode(uniqueID):\n",
    "    print(\"Decode the nodeID to internal uniqueID\")\n",
    "\n",
    "\n",
    "def encode(internalID):\n",
    "    print(\"Encode internal ID to a unique ID\")\n",
    "\n",
    "\n",
    "def get_data(uniqueID):\n",
    "    print(\"Return Image Object {ID:None, depth: value}\")\n",
    "\n",
    "\n",
    "def get_location(uniqueID):\n",
    "    # Rack ID, which half rack, node number\n",
    "    location = [int(uniqueID[1:4]), int(uniqueID[5:7]) > 6, int(uniqueID[7])]\n",
    "    return location\n",
    "\n",
    "\n",
    "def get_Input(IDs):\n",
    "    \n",
    "    initial = []\n",
    "    for ID in IDs:\n",
    "        initial.append({\"ID\": decode(ID), \"depth\": get_data(ID)[\"depth\"]})\n",
    "    \n",
    "    return initial\n",
    "# Final return list of nodes, target: Unique node ID (Cxxx-yyz) root: -1, index: whether sender/receiver, whereis parent\n",
    "\n",
    "def sort_depth(allnodes):\n",
    "    sorted_nodes = []\n",
    "    all_depths = [node[\"depth\"] for node in allnodes]\n",
    "    \n",
    "    index = sorted(range(len(all_depths)), key=lambda k: all_depths[k])\n",
    "    \n",
    "    for ind in index:\n",
    "        curnode = \n",
    "    \n",
    "    return\n"
   ]
  },
  {
   "cell_type": "code",
   "execution_count": 43,
   "metadata": {},
   "outputs": [],
   "source": [
    "a = int(56)"
   ]
  },
  {
   "cell_type": "code",
   "execution_count": 45,
   "metadata": {},
   "outputs": [
    {
     "data": {
      "text/plain": [
       "3"
      ]
     },
     "execution_count": 45,
     "metadata": {},
     "output_type": "execute_result"
    }
   ],
   "source": [
    "int(a/16)"
   ]
  }
 ],
 "metadata": {
  "kernelspec": {
   "display_name": "Python 3",
   "language": "python",
   "name": "python3"
  },
  "language_info": {
   "codemirror_mode": {
    "name": "ipython",
    "version": 3
   },
   "file_extension": ".py",
   "mimetype": "text/x-python",
   "name": "python",
   "nbconvert_exporter": "python",
   "pygments_lexer": "ipython3",
   "version": "3.6.3"
  }
 },
 "nbformat": 4,
 "nbformat_minor": 2
}
